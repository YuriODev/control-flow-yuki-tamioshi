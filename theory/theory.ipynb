{
    "cells": [
        {
            "cell_type": "markdown",
            "metadata": {},
            "source": [
                "# Conditional statements 📘\n",
                "\n",
                "Welcome to the second module of the Python Programming Course! In this module, we will cover conditional statements, which are used to make decisions in a program. We will also explore the different types of branches that Python offers to control the flow of a program.\n",
                "\n",
                "## What's Covered in This Module 📋\n",
                "\n",
                "- **If Statements** 🤔: \n",
                "  - **Simple If Statements**: Using the `if` statement to make a simple decision.\n",
                "  - **If-Else Statements**: Using the `if-else` statement to make a binary decision.\n",
                "  - **If-Elif-Else Statements**: Using the `if-elif-else` statement to make a multi-branch decision.\n",
                "- **Comparison Operators** 🎯:\n",
                "  - **Equal**: Using the `==` operator to compare two values.\n",
                "  - **Not Equal**: Using the `!=` operator to compare two values.\n",
                "  - **Greater Than**: Using the `>` operator to compare two values.\n",
                "  - **Greater Than or Equal**: Using the `>=` operator to compare two values.\n",
                "  - **Less Than**: Using the `<` operator to compare two values.\n",
                "  - **Less Than or Equal**: Using the `<=` operator to compare two values.\n",
                "- **Logical Operators** 🧠:\n",
                "  - **And**: Using the `and` operator to combine two conditions.\n",
                "  - **Or**: Using the `or` operator to combine two conditions.\n",
                "  - **Not**: Using the `not` operator to negate a condition.\n",
                "- **Boolean Expressions** 🚥:\n",
                "  - **Boolean Values**: Understanding the two boolean values `True` and `False`.\n",
                "  - **Boolean Operators**: Using operators like `and`, `or`, and `not` to perform logical operations.\n",
                "- **Nested Statements** 📦:\n",
                "  - **Nested If Statements**: Using nested `if` statements to create complex decisions.\n",
                "- **Extra tricks** 📝:\n",
                "  - **Ternary Operator**: Using the ternary operator to make decisions in a single line.\n",
                "  - **Short-Circuiting**: Understanding how Python uses short-circuiting to optimize logical operations.\n",
                "  - **Chaining Comparisons**: Using chaining comparisons to make complex comparisons in a single line.\n",
                "\n",
                "This module is designed to provide you with the necessary tools to make decisions in your programs. By the end of this module, you will be able to create complex decision trees and make your programs more intelligent. Let's get started! 🚀"
            ]
        },
        {
            "cell_type": "markdown",
            "metadata": {},
            "source": [
                "# 1. If Statements 🤔\n",
                "\n",
                "## Flowcharts and decision making 🌐\n",
                "\n",
                "Flowcharts are a powerful tool for visualizing the control flow of a program. They provide a graphical representation of the sequence of operations and the conditions that affect the flow of execution. Here are some reasons why flowcharts are important:\n",
                "\n",
                "1. **Simplification of Complex Processes**: Flowcharts break down complex processes into simple, understandable diagrams. This makes it easier to understand the overall structure and flow of a program.\n",
                "\n",
                "2. **Effective Communication**: Flowcharts are a universal language in the world of programming. They provide a clear and concise way to communicate the logic of a program to others, including non-programmers.\n",
                "\n",
                "3. **Debugging and Optimization**: Flowcharts can help identify logical errors and areas for optimization in a program. By visualizing the flow of control, you can spot inefficiencies and redundancies that might not be apparent in the code itself.\n",
                "\n",
                "4. **Planning and Designing Programs**: Before writing code, flowcharts can be used to plan the logic of a program. This can save time and effort during the coding phase, and it can help ensure that the program's logic is sound before any code is written.\n",
                "\n",
                "In terms of designing programs, flowcharts can be used to map out the sequence of operations, the decisions that need to be made, and the conditions that affect those decisions. This can help you identify the key components of your program, such as the variables, functions, and control structures that you'll need. By planning out these elements in advance, you can write more efficient and effective code."
            ]
        },
        {
            "cell_type": "markdown",
            "metadata": {},
            "source": [
                "## Flowchart Example 1: Remote Work Decision Tree 🌳\n",
                "\n",
                "The flowchart starts with the **Start Day** node. From there, the first decision to be made is whether the Transport for London (TFL) is working fine. If **yes**, the next decision is based on the weather. If the weather is good, the decision is to **Go to Work**. If the weather is not good, the decision depends on whether there is an important meeting. If there is an important meeting, the decision is to **Attend Meeting**. If there is no important meeting, the decision is to **Skip Meeting**.\n",
                "\n",
                "If the TFL is not working fine, the decision depends on whether the meeting can be done online. If **yes**, the decision is to **Work Remotely**. If **no**, the decision is to **Take Day Off**.\n",
                "\n",
                "Each node in the flowchart represents a decision point or an end point. The nodes are color-coded: the final decisions are highlighted in light green, and the other nodes are in sky blue. The edges between the nodes represent the flow of decisions, with labels indicating the decision made (**Yes/No**). The edge labels are color-coded as well: **Yes** is in green and **No** is in red.\n",
                "\n",
                "Here is the flowchart:\n",
                "\n",
                "![Remote Work Decision Tree](remote_work_decision_tree.png)"
            ]
        },
        {
            "cell_type": "markdown",
            "metadata": {},
            "source": [
                "## Flowchart Example 2: Football Field Decision Tree 🌳\n",
                "\n",
                "The flowchart represents a decision-making process for a football scenario where Mohamed Salah has the ball near Manchester City's penalty area. The decisions and actions are as follows:\n",
                "\n",
                "1. The process starts with **Mohamed Salah having the ball**.\n",
                "2. The first decision to make is whether **Salah is closely marked by Ruben Dias**.\n",
                "3. If Salah is closely marked, the next decision is whether **Salah can pass the ball to Sadio Mané on his left**.\n",
                "    - If he can, the action is to **pass the ball to Mané**.\n",
                "    - If he can't, the next decision is whether **Thiago is available for a back pass**.\n",
                "        - If Thiago is available, the action is to **pass the ball back to Thiago**.\n",
                "        - If Thiago is not available, the action is to **attempt to dribble past Dias**.\n",
                "            - If there is a clear shot at goal, the action is to **take a shot**.\n",
                "            - If there isn't a clear shot at goal, the next decision is whether **Roberto Firmino is in a better position inside the box**.\n",
                "                - If Firmino is in a better position, the action is to **chip pass to Firmino**.\n",
                "                - If Firmino is not in a better position, the next decision is whether **Trent Alexander-Arnold can support from the right flank**.\n",
                "                    - If Alexander-Arnold can support, the action is to **pass the ball to Alexander-Arnold**.\n",
                "                    - If Alexander-Arnold can't support, the action is to **hold the ball and wait for teammates to support**.\n",
                "\n",
                "\n",
                "Here is the flowchart:\n",
                "\n",
                "[![Football Field Decision Tree](liverpool_decision_tree.png)](liverpool_decision_tree.png)"
            ]
        },
        {
            "cell_type": "markdown",
            "metadata": {},
            "source": [
                "## Simple If Statements 🚦\n",
                "\n",
                "In Python, the `if` statement is used to make a simple decision based on a condition. The syntax of the `if` statement is as follows:\n",
                "\n",
                "```python\n",
                "if condition:\n",
                "    # code to execute if the condition is True\n",
                "```\n",
                "\n",
                "The `condition` is a boolean expression that evaluates to either `True` or `False`. If the condition is `True`, the code block inside the `if` statement is executed. If the condition is `False`, the code block is skipped."
            ]
        },
        {
            "cell_type": "code",
            "execution_count": 1,
            "metadata": {},
            "outputs": [
                {
                    "name": "stdout",
                    "output_type": "stream",
                    "text": [
                        "x is greater than 5\n"
                    ]
                }
            ],
            "source": [
                "# Example 1: Simple If Statement\n",
                "x = 10\n",
                "if x > 5:\n",
                "    print(\"x is greater than 5\")"
            ]
        },
        {
            "cell_type": "code",
            "execution_count": 2,
            "metadata": {},
            "outputs": [
                {
                    "name": "stdout",
                    "output_type": "stream",
                    "text": [
                        "The number is positive\n"
                    ]
                }
            ],
            "source": [
                "# Example 2: Simple If Statement\n",
                "number = 100\n",
                "if number > 0:\n",
                "    print(\"The number is positive\")"
            ]
        },
        {
            "cell_type": "markdown",
            "metadata": {},
            "source": [
                "## If-Else Statements 🚦\n",
                "\n",
                "In Python, the `if-else` statement is used to make a binary decision based on a condition. The syntax of the `if-else` statement is as follows:\n",
                "\n",
                "```python\n",
                "if condition:\n",
                "    # code to execute if the condition is True\n",
                "else:\n",
                "    # code to execute if the condition is False\n",
                "```\n",
                "\n",
                "The `condition` is a boolean expression that evaluates to either `True` or `False`. If the condition is `True`, the code block inside the `if` statement is executed. If the condition is `False`, the code block inside the `else` statement is executed."
            ]
        },
        {
            "cell_type": "code",
            "execution_count": 3,
            "metadata": {},
            "outputs": [
                {
                    "name": "stdout",
                    "output_type": "stream",
                    "text": [
                        "x is greater than 5\n"
                    ]
                }
            ],
            "source": [
                "# Example 1: If-else Statement\n",
                "x = 10\n",
                "if x > 5:\n",
                "    print(\"x is greater than 5\")\n",
                "else:\n",
                "    print(\"x is less than 5\")"
            ]
        },
        {
            "cell_type": "code",
            "execution_count": 4,
            "metadata": {},
            "outputs": [
                {
                    "name": "stdout",
                    "output_type": "stream",
                    "text": [
                        "The number is positive\n"
                    ]
                }
            ],
            "source": [
                "# Example 2: If-else Statement\n",
                "number = 100\n",
                "if number > 0:\n",
                "    print(\"The number is positive\")\n",
                "else:\n",
                "    print(\"The number is non positive\")"
            ]
        },
        {
            "cell_type": "markdown",
            "metadata": {},
            "source": [
                "## If-Elif-Else Statements 🚦\n",
                "\n",
                "In Python, the `if-elif-else` statement is used to make a multi-branch decision based on multiple conditions. The syntax of the `if-elif-else` statement is as follows:\n",
                "\n",
                "```python\n",
                "if condition1:\n",
                "    # code to execute if condition1 is True\n",
                "elif condition2:\n",
                "    # code to execute if condition1 is False and condition2 is True\n",
                "else:\n",
                "    # code to execute if condition1 and condition2 are False\n",
                "```\n",
                "\n",
                "The `condition1` and `condition2` are boolean expressions that evaluate to either `True` or `False`. The `if` statement checks the first condition, and if it is `True`, the code block inside the `if` statement is executed. If the first condition is `False`, the `elif` statement checks the second condition, and if it is `True`, the code block inside the `elif` statement is executed. If both conditions are `False`, the code block inside the `else` statement is executed."
            ]
        },
        {
            "cell_type": "code",
            "execution_count": 5,
            "metadata": {},
            "outputs": [
                {
                    "name": "stdout",
                    "output_type": "stream",
                    "text": [
                        "x is greater than 5\n"
                    ]
                }
            ],
            "source": [
                "# Example 1: If-elif-else Statement\n",
                "x = 10\n",
                "if x > 5:\n",
                "    print(\"x is greater than 5\")\n",
                "elif x < 5:\n",
                "    print(\"x is less than 5\")\n",
                "else:\n",
                "    print(\"x is equal to 5\")"
            ]
        },
        {
            "cell_type": "code",
            "execution_count": 6,
            "metadata": {},
            "outputs": [
                {
                    "name": "stdout",
                    "output_type": "stream",
                    "text": [
                        "The number is positive\n"
                    ]
                }
            ],
            "source": [
                "# Example 2: If-elif-else Statement\n",
                "number = 100\n",
                "if number > 0:\n",
                "    print(\"The number is positive\")\n",
                "elif number < 0:\n",
                "    print(\"The number is negative\")\n",
                "else:\n",
                "    print(\"The number is zero\")"
            ]
        },
        {
            "cell_type": "markdown",
            "metadata": {},
            "source": [
                "# 2. Comparison Operators 🎯\n",
                "\n",
                "In Python, comparison operators are used to compare two values and determine the relationship between them. Here are the comparison operators available in Python:\n",
                "\n",
                "- **Equal**: `==`\n",
                "- **Not Equal**: `!=`\n",
                "- **Greater Than**: `>`\n",
                "- **Greater Than or Equal**: `>=`\n",
                "- **Less Than**: `<`\n",
                "- **Less Than or Equal**: `<=`\n",
                "\n",
                "These operators return a boolean value (`True` or `False`) based on the result of the comparison."
            ]
        },
        {
            "cell_type": "markdown",
            "metadata": {},
            "source": [
                "### Equal Operator (==) 🎯\n",
                "\n",
                "The `==` operator is used to compare two values and determine if they are equal. If the values are equal, the result is `True`; otherwise, the result is `False`."
            ]
        },
        {
            "cell_type": "code",
            "execution_count": 7,
            "metadata": {},
            "outputs": [
                {
                    "name": "stdout",
                    "output_type": "stream",
                    "text": [
                        "True\n"
                    ]
                }
            ],
            "source": [
                "# Example 1\n",
                "x = 5\n",
                "y = 5\n",
                "result = x == y\n",
                "print(result) # Output: True"
            ]
        },
        {
            "cell_type": "code",
            "execution_count": 8,
            "metadata": {},
            "outputs": [
                {
                    "name": "stdout",
                    "output_type": "stream",
                    "text": [
                        "False\n"
                    ]
                }
            ],
            "source": [
                "# Example 2\n",
                "x = 5\n",
                "y = 6\n",
                "result = x == y\n",
                "print(result) # Output: False\n"
            ]
        },
        {
            "cell_type": "markdown",
            "metadata": {},
            "source": [
                "### Not Equal Operator (!=) 🎯\n",
                "\n",
                "The `!=` operator is used to compare two values and determine if they are not equal. If the values are not equal, the result is `True`; otherwise, the result is `False`."
            ]
        },
        {
            "cell_type": "code",
            "execution_count": 9,
            "metadata": {},
            "outputs": [
                {
                    "name": "stdout",
                    "output_type": "stream",
                    "text": [
                        "False\n"
                    ]
                }
            ],
            "source": [
                "# Example 1\n",
                "x = 5\n",
                "y = 5\n",
                "result = x != y\n",
                "print(result) # Output: False"
            ]
        },
        {
            "cell_type": "code",
            "execution_count": 10,
            "metadata": {},
            "outputs": [
                {
                    "name": "stdout",
                    "output_type": "stream",
                    "text": [
                        "True\n"
                    ]
                }
            ],
            "source": [
                "# Example 2\n",
                "x = 5\n",
                "y = 6\n",
                "result = x != y\n",
                "print(result) # Output: True\n"
            ]
        },
        {
            "cell_type": "markdown",
            "metadata": {},
            "source": [
                "### Greater Than Operator (>) 🎯\n",
                "\n",
                "The `>` operator is used to compare two values and determine if the first value is greater than the second value. If the first value is greater, the result is `True`; otherwise, the result is `False`.\n"
            ]
        },
        {
            "cell_type": "code",
            "execution_count": 11,
            "metadata": {},
            "outputs": [
                {
                    "name": "stdout",
                    "output_type": "stream",
                    "text": [
                        "False\n"
                    ]
                }
            ],
            "source": [
                "# Example 1\n",
                "x = 5\n",
                "y = 5\n",
                "result = x > y\n",
                "print(result) # Output: False"
            ]
        },
        {
            "cell_type": "code",
            "execution_count": 12,
            "metadata": {},
            "outputs": [
                {
                    "name": "stdout",
                    "output_type": "stream",
                    "text": [
                        "False\n"
                    ]
                }
            ],
            "source": [
                "# Example 2\n",
                "x = 5\n",
                "y = 6\n",
                "result = x > y\n",
                "print(result) # Output: False\n"
            ]
        },
        {
            "cell_type": "markdown",
            "metadata": {},
            "source": [
                "\n",
                "### Greater Than or Equal Operator (>=) 🎯\n",
                "\n",
                "The `>=` operator is used to compare two values and determine if the first value is greater than or equal to the second value. If the first value is greater than or equal, the result is `True`; otherwise, the result is `False`."
            ]
        },
        {
            "cell_type": "code",
            "execution_count": 13,
            "metadata": {},
            "outputs": [
                {
                    "name": "stdout",
                    "output_type": "stream",
                    "text": [
                        "False\n"
                    ]
                }
            ],
            "source": [
                "# Example 1\n",
                "x = 5\n",
                "y = 5\n",
                "result = x < y\n",
                "print(result) # Output: False"
            ]
        },
        {
            "cell_type": "code",
            "execution_count": 14,
            "metadata": {},
            "outputs": [
                {
                    "name": "stdout",
                    "output_type": "stream",
                    "text": [
                        "True\n"
                    ]
                }
            ],
            "source": [
                "# Example 2\n",
                "x = 5\n",
                "y = 6\n",
                "result = x < y\n",
                "print(result) # Output: True"
            ]
        },
        {
            "cell_type": "markdown",
            "metadata": {},
            "source": [
                "\n",
                "\n",
                "### Less Than Operator (<) 🎯\n",
                "\n",
                "The `<` operator is used to compare two values and determine if the first value is less than the second value. If the first value is less, the result is `True`; otherwise, the result is `False`."
            ]
        },
        {
            "cell_type": "code",
            "execution_count": 15,
            "metadata": {},
            "outputs": [
                {
                    "name": "stdout",
                    "output_type": "stream",
                    "text": [
                        "True\n"
                    ]
                }
            ],
            "source": [
                "# Example 1\n",
                "x = 5\n",
                "y = 5\n",
                "result = x >= y\n",
                "print(result) # Output: True"
            ]
        },
        {
            "cell_type": "code",
            "execution_count": 16,
            "metadata": {},
            "outputs": [
                {
                    "name": "stdout",
                    "output_type": "stream",
                    "text": [
                        "False\n"
                    ]
                }
            ],
            "source": [
                "# Example 2\n",
                "x = 5\n",
                "y = 6\n",
                "result = x >= y\n",
                "print(result) # Output: False"
            ]
        },
        {
            "cell_type": "markdown",
            "metadata": {},
            "source": [
                "\n",
                "\n",
                "### Less Than or Equal Operator (<=) 🎯\n",
                "\n",
                "The `<=` operator is used to compare two values and determine if the first value is less than or equal to the second value. If the first value is less than or equal, the result is `True`; otherwise, the result is `False`."
            ]
        },
        {
            "cell_type": "code",
            "execution_count": 17,
            "metadata": {},
            "outputs": [
                {
                    "name": "stdout",
                    "output_type": "stream",
                    "text": [
                        "True\n"
                    ]
                }
            ],
            "source": [
                "# Example 1\n",
                "x = 5\n",
                "y = 5\n",
                "result = x <= y\n",
                "print(result) # Output: True"
            ]
        },
        {
            "cell_type": "code",
            "execution_count": 18,
            "metadata": {},
            "outputs": [
                {
                    "name": "stdout",
                    "output_type": "stream",
                    "text": [
                        "True\n"
                    ]
                }
            ],
            "source": [
                "# Example 2\n",
                "x = 5\n",
                "y = 6\n",
                "result = x <= y\n",
                "print(result) # Output: True"
            ]
        },
        {
            "cell_type": "markdown",
            "metadata": {},
            "source": [
                "# 3. Logical Operators 🧠\n",
                "\n",
                "In Python, logical operators are used to combine multiple conditions and perform logical operations. Here are the logical operators available in Python:\n",
                "\n",
                "- **And**: `and`\n",
                "- **Or**: `or`\n",
                "- **Not**: `not`\n",
                "\n",
                "These operators return a boolean value (`True` or `False`) based on the result of the logical operation."
            ]
        },
        {
            "cell_type": "markdown",
            "metadata": {},
            "source": [
                "## And Operator 🧠\n",
                "\n",
                "The `and` operator is used to combine two conditions and determine if both conditions are `True`. If both conditions are `True`, the result is `True`; otherwise, the result is `False`."
            ]
        },
        {
            "cell_type": "code",
            "execution_count": 19,
            "metadata": {},
            "outputs": [
                {
                    "name": "stdout",
                    "output_type": "stream",
                    "text": [
                        "False\n"
                    ]
                }
            ],
            "source": [
                "# Example 1\n",
                "# Define two boolean variables\n",
                "is_sunny = True\n",
                "is_weekend = False\n",
                "\n",
                "# Use the \"and\" operator to combine the conditions\n",
                "go_to_beach = is_sunny and is_weekend\n",
                "\n",
                "# Print the result\n",
                "print(go_to_beach)  # Output: False\n"
            ]
        },
        {
            "cell_type": "code",
            "execution_count": 20,
            "metadata": {},
            "outputs": [
                {
                    "name": "stdout",
                    "output_type": "stream",
                    "text": [
                        "True\n"
                    ]
                }
            ],
            "source": [
                "# Example 2\n",
                "# Define two boolean variables\n",
                "is_sunny = True\n",
                "is_weekend = True\n",
                "\n",
                "# Use the \"and\" operator to combine the conditions\n",
                "go_to_beach = is_sunny and is_weekend\n",
                "\n",
                "# Print the result\n",
                "print(go_to_beach)  # Output: True"
            ]
        },
        {
            "cell_type": "code",
            "execution_count": 21,
            "metadata": {},
            "outputs": [
                {
                    "name": "stdout",
                    "output_type": "stream",
                    "text": [
                        "False\n"
                    ]
                }
            ],
            "source": [
                "# Example 3\n",
                "# Define two boolean variables\n",
                "is_sunny = False\n",
                "is_weekend = False\n",
                "\n",
                "# Use the \"and\" operator to combine the conditions\n",
                "go_to_beach = is_sunny and is_weekend\n",
                "\n",
                "# Print the result\n",
                "print(go_to_beach)  # Output: False"
            ]
        },
        {
            "cell_type": "markdown",
            "metadata": {},
            "source": [
                "## Or Operator 🧠\n",
                "\n",
                "The `or` operator is used to combine two conditions and determine if at least one condition is `True`. If at least one condition is `True`, the result is `True`; otherwise, the result is `False`."
            ]
        },
        {
            "cell_type": "code",
            "execution_count": 22,
            "metadata": {},
            "outputs": [
                {
                    "name": "stdout",
                    "output_type": "stream",
                    "text": [
                        "True\n"
                    ]
                }
            ],
            "source": [
                "# Example 1\n",
                "# Define two boolean variables\n",
                "is_sunny = True\n",
                "is_weekend = False\n",
                "\n",
                "# Use the \"or\" operator to combine the conditions\n",
                "go_to_beach = is_sunny or is_weekend\n",
                "\n",
                "# Print the result\n",
                "print(go_to_beach)  # Output: True"
            ]
        },
        {
            "cell_type": "code",
            "execution_count": 23,
            "metadata": {},
            "outputs": [
                {
                    "name": "stdout",
                    "output_type": "stream",
                    "text": [
                        "True\n"
                    ]
                }
            ],
            "source": [
                "# Example 2\n",
                "# Define two boolean variables\n",
                "is_sunny = True\n",
                "is_weekend = True\n",
                "\n",
                "# Use the \"or\" operator to combine the conditions\n",
                "go_to_beach = is_sunny or is_weekend\n",
                "\n",
                "# Print the result\n",
                "print(go_to_beach)  # Output: True"
            ]
        },
        {
            "cell_type": "code",
            "execution_count": 24,
            "metadata": {},
            "outputs": [
                {
                    "name": "stdout",
                    "output_type": "stream",
                    "text": [
                        "False\n"
                    ]
                }
            ],
            "source": [
                "# Example 3\n",
                "# Define two boolean variables\n",
                "is_sunny = False\n",
                "is_weekend = False\n",
                "\n",
                "# Use the \"or\" operator to combine the conditions\n",
                "go_to_beach = is_sunny or is_weekend\n",
                "\n",
                "# Print the result\n",
                "print(go_to_beach)  # Output: False"
            ]
        },
        {
            "cell_type": "markdown",
            "metadata": {},
            "source": [
                "## Not Operator 🧠\n",
                "\n",
                "The `not` operator is used to negate a condition and determine if the condition is `False`. If the condition is `False`, the result is `True`; otherwise, the result is `False`."
            ]
        },
        {
            "cell_type": "code",
            "execution_count": 25,
            "metadata": {},
            "outputs": [
                {
                    "name": "stdout",
                    "output_type": "stream",
                    "text": [
                        "False\n"
                    ]
                }
            ],
            "source": [
                "# Example 1\n",
                "# Define a boolean variable\n",
                "is_sunny = True\n",
                "\n",
                "# Use the \"not\" operator to negate the condition\n",
                "stay_home = not is_sunny\n",
                "\n",
                "# Print the result\n",
                "print(stay_home)  # Output: False"
            ]
        },
        {
            "cell_type": "code",
            "execution_count": 26,
            "metadata": {},
            "outputs": [
                {
                    "name": "stdout",
                    "output_type": "stream",
                    "text": [
                        "True\n"
                    ]
                }
            ],
            "source": [
                "# Example 2\n",
                "# Define a boolean variable\n",
                "is_sunny = False\n",
                "\n",
                "# Use the \"not\" operator to negate the condition\n",
                "stay_home = not is_sunny\n",
                "\n",
                "# Print the result\n",
                "print(stay_home)  # Output: True"
            ]
        },
        {
            "cell_type": "markdown",
            "metadata": {},
            "source": [
                "## Truth Tables 📊\n",
                "\n",
                "Truth tables are used to illustrate the results of logical operations. They show all possible combinations of input values and the corresponding output values. Here are the truth tables for the `and`, `or`, and `not` operators:\n",
                "\n",
                "### `And` Operator Truth Table:\n",
                "\n",
                "| A     | B     | A and B |\n",
                "|-------|-------|---------|\n",
                "| True  | True  | True    |\n",
                "| True  | False | False   |\n",
                "| False | True  | False   |\n",
                "\n",
                "### `Or` Operator Truth Table:\n",
                "\n",
                "| A     | B     | A or B  |\n",
                "|-------|-------|---------|\n",
                "| True  | True  | True    |\n",
                "| True  | False | True    |\n",
                "| False | True  | True    |\n",
                "\n",
                "### `Not` Operator Truth Table:\n",
                "\n",
                "| A     | not A |\n",
                "|-------|-------|\n",
                "| True  | False |\n",
                "| False | True  |"
            ]
        },
        {
            "cell_type": "markdown",
            "metadata": {},
            "source": [
                "## Football related Truth Tables 📊"
            ]
        },
        {
            "cell_type": "markdown",
            "metadata": {},
            "source": [
                "\n",
                "### `Not` Operator Truth Table:\n",
                "\n",
                "| Opponent is Close | Dribble |\n",
                "|-------------------|---------|\n",
                "| True              | False   |\n",
                "| False             | True    |\n",
                "\n",
                "\n",
                "The  table demonstrates that the decision to dribble is the opposite of whether an opponent is close. If an opponent is close (`True`), then don't dribble (`False`). If an opponent is not close (`False`), then dribble (`True`)."
            ]
        },
        {
            "cell_type": "code",
            "execution_count": 27,
            "metadata": {},
            "outputs": [
                {
                    "name": "stdout",
                    "output_type": "stream",
                    "text": [
                        "Dribble\n"
                    ]
                }
            ],
            "source": [
                "opponent_is_close = True\n",
                "\n",
                "if opponent_is_close:\n",
                "    print(\"Dribble\")\n",
                "else:\n",
                "    print(\"Do not dribble\")"
            ]
        },
        {
            "cell_type": "markdown",
            "metadata": {},
            "source": [
                "### `And` Operator Truth Table:\n",
                "\n",
                "| Salah is Open | Pass is Clear | Pass to Salah |\n",
                "|---------------|---------------|---------------|\n",
                "| True          | True          | True          |\n",
                "| True          | False         | False         |\n",
                "| False         | True          | False         |\n",
                "| False         | False         | False         |\n",
                "\n",
                "The table shows that the decision to pass to Salah is `True` only when both conditions (Salah is open and the pass is clear) are `True`."
            ]
        },
        {
            "cell_type": "code",
            "execution_count": 28,
            "metadata": {},
            "outputs": [
                {
                    "name": "stdout",
                    "output_type": "stream",
                    "text": [
                        "Pass to Salah\n"
                    ]
                }
            ],
            "source": [
                "salah_is_open = True\n",
                "pass_is_clear = True\n",
                "\n",
                "if salah_is_open and pass_is_clear:\n",
                "    print(\"Pass to Salah\")\n",
                "else:\n",
                "    print(\"Don't pass to Salah\")"
            ]
        },
        {
            "cell_type": "markdown",
            "metadata": {},
            "source": [
                "### `Or` Operator Truth Table:\n",
                "\n",
                "| Mané is Open | Firmino is Open | Pass to Either |\n",
                "|--------------|-----------------|----------------|\n",
                "| True         | True            | True           |\n",
                "| True         | False           | True           |\n",
                "| False        | True            | True           |\n",
                "| False        | False           | False          |\n",
                "\n",
                "The  table indicates that the decision to pass to either Mané or Firmino is `True` if at least one of them is open."
            ]
        },
        {
            "cell_type": "code",
            "execution_count": 29,
            "metadata": {},
            "outputs": [
                {
                    "name": "stdout",
                    "output_type": "stream",
                    "text": [
                        "Pass to either Mané or Firmino\n"
                    ]
                }
            ],
            "source": [
                "mane_is_open = True\n",
                "firmino_is_open = False\n",
                "\n",
                "if mane_is_open or firmino_is_open:\n",
                "    print(\"Pass to either Mané or Firmino\")\n",
                "else:\n",
                "    print(\"Don't pass to either Mané or Firmino\")\n"
            ]
        },
        {
            "cell_type": "markdown",
            "metadata": {},
            "source": [
                "# 4. Boolean Expressions 🚥\n",
                "\n",
                "In Python, boolean expressions are used to represent the truth value of an expression. There are two boolean values in Python: `True` and `False`. These values are used to represent the result of a comparison or a logical operation.\n",
                "\n",
                "## Boolean Values 🚥\n",
                "\n",
                "The boolean values `True` and `False` are used to represent the truth value of an expression. These values are used to make decisions in a program and control the flow of execution.\n",
                "\n",
                "## Boolean Operators 🚥\n",
                "\n",
                "Boolean operators are used to perform logical operations on boolean values. Here are the boolean operators available in Python:\n",
                "\n",
                "- **And**: `and`\n",
                "- **Or**: `or`\n",
                "- **Not**: `not`\n",
                "\n",
                "These operators are used to combine boolean values and perform logical operations."
            ]
        },
        {
            "cell_type": "markdown",
            "metadata": {},
            "source": [
                "# 5. Nested Statements 📦\n",
                "\n",
                "In Python, nested statements are used to create complex decisions by combining multiple `if` statements. A nested `if` statement is an `if` statement inside another `if` statement. This allows you to create multi-level decision trees and handle complex conditions.\n"
            ]
        },
        {
            "cell_type": "markdown",
            "metadata": {},
            "source": [
                "## Nested If Statements 📦\n",
                "\n",
                "In Python, a nested `if` statement is an `if` statement inside another `if` statement. The syntax of a nested `if` statement is as follows:\n",
                "\n",
                "```python\n",
                "if condition1:\n",
                "    if condition2:\n",
                "        # code to execute if condition1 and condition2 are True\n",
                "    else:\n",
                "        # code to execute if condition1 is True and condition2 is False\n",
                "else:\n",
                "    # code to execute if condition1 is False\n",
                "```\n",
                "\n",
                "The `condition1` and `condition2` are boolean expressions that evaluate to either `True` or `False`. The outer `if` statement checks the first condition, and if it is `True`, the inner `if` statement checks the second condition. If both conditions are `True`, the code block inside the inner `if` statement is executed. If the first condition is `True` and the second condition is `False`, the code block inside the `else` statement is executed. If the first condition is `False`, the code block inside the outer `else` statement is executed.\n"
            ]
        },
        {
            "cell_type": "code",
            "execution_count": 30,
            "metadata": {},
            "outputs": [
                {
                    "name": "stdout",
                    "output_type": "stream",
                    "text": [
                        "Don't pass to Salah, look for other options\n"
                    ]
                }
            ],
            "source": [
                "# Example 1\n",
                "salah_is_open = True\n",
                "pass_is_clear = False\n",
                "\n",
                "if salah_is_open:\n",
                "    if pass_is_clear:\n",
                "        print(\"Pass to Salah\")\n",
                "    else:\n",
                "        print(\"Don't pass to Salah, look for other options\")\n",
                "else:\n",
                "    print(\"Salah is not open, look for other options\")"
            ]
        },
        {
            "cell_type": "markdown",
            "metadata": {},
            "source": [
                "In this example, the outer `if` statement checks if Salah is open. If the condition is `True`, the inner `if` statement checks if the pass is clear. If both conditions are `True`, the code block inside the inner `if` statement is executed. If the first condition is `True` and the second condition is `False`, the code block inside the `else` statement is executed. If the first condition is `False`, the code block inside the outer `else` statement is executed."
            ]
        },
        {
            "cell_type": "code",
            "execution_count": 31,
            "metadata": {},
            "outputs": [
                {
                    "name": "stdout",
                    "output_type": "stream",
                    "text": [
                        "Don't pass to Salah, look for other options\n"
                    ]
                }
            ],
            "source": [
                "# Example 2\n",
                "salah_is_open = True\n",
                "pass_is_clear = False\n",
                "mane_is_open = True\n",
                "\n",
                "if salah_is_open:\n",
                "    if pass_is_clear:\n",
                "        print(\"Pass to Salah\")\n",
                "    else:\n",
                "        print(\"Don't pass to Salah, look for other options\")\n",
                "elif mane_is_open:\n",
                "    print(\"Pass to Mané\")\n",
                "else:\n",
                "    print(\"Neither Salah nor Mané is open, look for other options\")"
            ]
        },
        {
            "cell_type": "markdown",
            "metadata": {},
            "source": [
                "In the above example, we have three conditions:\n",
                "\n",
                "1. If Salah is open and the pass is clear, pass the ball to Salah\n",
                "2. If Salah is open but the pass is not clear, look for other options\n",
                "3. If Salah is not open, look for other options\n",
                "\n",
                "The first condition is checked using the `if` statement. The second and third conditions are checked using the `elif` and `else` statements, respectively. \n",
                "\n",
                "The `elif` statement is used to check the second condition, and the `else` statement is used to check the third condition."
            ]
        },
        {
            "cell_type": "code",
            "execution_count": 32,
            "metadata": {},
            "outputs": [
                {
                    "name": "stdout",
                    "output_type": "stream",
                    "text": [
                        "Don't pass to Salah, look for other options\n"
                    ]
                }
            ],
            "source": [
                "# Example 3\n",
                "salah_is_open = True\n",
                "pass_is_clear = False\n",
                "mane_is_open = True\n",
                "firmino_is_open = False\n",
                "\n",
                "if salah_is_open:\n",
                "    if pass_is_clear:\n",
                "        print(\"Pass to Salah\")\n",
                "    else:\n",
                "        print(\"Don't pass to Salah, look for other options\")\n",
                "elif mane_is_open:\n",
                "    if pass_is_clear:\n",
                "        print(\"Pass to Mané\")\n",
                "    else:\n",
                "        print(\"Don't pass to Mané, look for other options\")\n",
                "elif firmino_is_open:\n",
                "    if pass_is_clear:\n",
                "        print(\"Pass to Firmino\")\n",
                "    else:\n",
                "        print(\"Don't pass to Firmino, look for other options\")\n",
                "else:\n",
                "    print(\"Neither Salah, Mané, nor Firmino is open, look for other options\")"
            ]
        },
        {
            "cell_type": "markdown",
            "metadata": {},
            "source": [
                "In the above example, we have several conditions:\n",
                "\n",
                "1. If Salah is open and the pass is clear, pass the ball to Salah.\n",
                "2. If Salah is open but the pass is not clear, look for other options.\n",
                "3. If Salah is not open but Mané is open and the pass is clear, pass the ball to Mané.\n",
                "4. If Mané is open but the pass is not clear, look for other options.\n",
                "5. If neither Salah nor Mané is open but Firmino is open and the pass is clear, pass the ball to Firmino.\n",
                "6. If Firmino is open but the pass is not clear, look for other options.\n",
                "7. If neither Salah, Mané, nor Firmino is open, look for other options.\n",
                "\n",
                "The `if` and `elif` statements are used to check the conditions for each player. Nested `if` statements are used to check if the pass is clear for the open player. The `else` statement is used when none of the players is open."
            ]
        },
        {
            "cell_type": "markdown",
            "metadata": {},
            "source": [
                "# 6. Extra tricks 📝\n",
                "\n",
                "In this section, we will cover some extra tricks and techniques that can be used to make decisions in Python programs. These include the ternary operator, short-circuiting, and chaining comparisons."
            ]
        },
        {
            "cell_type": "markdown",
            "metadata": {},
            "source": [
                "## Ternary Operator 📝\n",
                "\n",
                "The ternary operator is a compact way to make decisions in a single line of code. It is a shorthand for the `if-else` statement and is often used to assign a value to a variable based on a condition. The syntax of the ternary operator is as follows:\n",
                "\n",
                "```python\n",
                "variable = value1 if condition else value2\n",
                "```\n",
                "\n",
                "The `condition` is a boolean expression that evaluates to either `True` or `False`. If the condition is `True`, the value of `variable` is `value1`; otherwise, the value of `variable` is `value2`."
            ]
        },
        {
            "cell_type": "code",
            "execution_count": 33,
            "metadata": {},
            "outputs": [
                {
                    "name": "stdout",
                    "output_type": "stream",
                    "text": [
                        "Pass to Salah\n"
                    ]
                }
            ],
            "source": [
                "# Example 1\n",
                "salah_is_open = True\n",
                "message = \"Pass to Salah\" if salah_is_open else \"Don't pass to Salah\"\n",
                "print(message)"
            ]
        },
        {
            "cell_type": "code",
            "execution_count": 34,
            "metadata": {},
            "outputs": [
                {
                    "name": "stdout",
                    "output_type": "stream",
                    "text": [
                        "High\n"
                    ]
                }
            ],
            "source": [
                "# Example 2\n",
                "distance_to_goal = 30\n",
                "shot_power = \"High\" if distance_to_goal > 20 else \"Low\"\n",
                "print(shot_power)"
            ]
        },
        {
            "cell_type": "code",
            "execution_count": 35,
            "metadata": {},
            "outputs": [
                {
                    "name": "stdout",
                    "output_type": "stream",
                    "text": [
                        "Pass to Salah\n"
                    ]
                }
            ],
            "source": [
                "# Example 3\n",
                "salah_is_open = True\n",
                "mane_is_open = False\n",
                "message = \"Pass to Salah\" if salah_is_open else \"Pass to Mané\" if mane_is_open else \"Neither Salah nor Mané is open\"\n",
                "print(message)"
            ]
        },
        {
            "cell_type": "markdown",
            "metadata": {},
            "source": [
                "## Order of Evaluation 📝\n",
                "\n",
                "The ternary operator is evaluated from left to right. First, the `condition` is evaluated. If the condition is `True`, the value of `variable` is `value1`. If the condition is `False`, the value of `variable` is `value2`.\n",
                "\n",
                "```python \n",
                "number = 10\n",
                "if number % 3 == 0 and number % 5 == 0:\n",
                "    print(\"FizzBuzz\")\n",
                "elif number % 3 == 0:\n",
                "    print(\"Fizz\")\n",
                "elif number % 5 == 0:\n",
                "    print(\"Buzz\")\n",
                "else:\n",
                "    print(number)\n",
                "```\n",
                "\n",
                "In the given Python code, we're implementing the FizzBuzz problem. The order of evaluation is crucial here. \n",
                "\n",
                "The `if` and `elif` conditions are checked in the order they appear. If a condition is `True`, the corresponding block of code is executed and the rest of the conditions are not checked. \n",
                "\n",
                "In our case, we first check if the number is divisible by both 3 and 5. If we didn't check this condition first, numbers that are divisible by both 3 and 5 (like 15) would only satisfy the \"divisible by 3\" or \"divisible by 5\" conditions, and we would print \"Fizz\" or \"Buzz\" instead of \"FizzBuzz\". \n",
                "\n",
                "Therefore, the order of conditions in our code ensures that we correctly print \"FizzBuzz\" for numbers divisible by both 3 and 5, \"Fizz\" for numbers only divisible by 3, and \"Buzz\" for numbers only divisible by 5."
            ]
        },
        {
            "cell_type": "code",
            "execution_count": 36,
            "metadata": {},
            "outputs": [
                {
                    "name": "stdout",
                    "output_type": "stream",
                    "text": [
                        "FizzBuzz\n"
                    ]
                }
            ],
            "source": [
                "# Example 1\n",
                "number = 15\n",
                "\n",
                "if number % 3 == 0 and number % 5 == 0:\n",
                "    print(\"FizzBuzz\")\n",
                "elif number % 3 == 0:\n",
                "    print(\"Fizz\")\n",
                "elif number % 5 == 0:\n",
                "    print(\"Buzz\")\n",
                "else:\n",
                "    print(number)"
            ]
        },
        {
            "cell_type": "code",
            "execution_count": 37,
            "metadata": {},
            "outputs": [
                {
                    "name": "stdout",
                    "output_type": "stream",
                    "text": [
                        "Fizz\n"
                    ]
                }
            ],
            "source": [
                "# Example 2\n",
                "number = 15\n",
                "\n",
                "if number % 3 == 0:\n",
                "    print(\"Fizz\")\n",
                "elif number % 5 == 0:\n",
                "    print(\"Buzz\")\n",
                "elif number % 3 == 0 and number % 5 == 0:\n",
                "    print(\"FizzBuzz\")\n",
                "else:\n",
                "    print(number)"
            ]
        },
        {
            "cell_type": "markdown",
            "metadata": {},
            "source": [
                "## Short-Circuiting 📝\n",
                "\n",
                "Short-circuiting is a technique used to optimize logical operations by evaluating only the necessary conditions. In Python, the `and` and `or` operators use short-circuiting to optimize logical operations."
            ]
        },
        {
            "cell_type": "markdown",
            "metadata": {},
            "source": [
                "### Short-Circuiting with `and` Operator 📝\n",
                "\n",
                "The `and` operator uses short-circuiting to optimize logical operations. If the first condition is `False`, the second condition is not evaluated, and the result is `False`. This is because the result of the `and` operation is `False` if at least one of the conditions is `False`."
            ]
        },
        {
            "cell_type": "code",
            "execution_count": 38,
            "metadata": {},
            "outputs": [
                {
                    "name": "stdout",
                    "output_type": "stream",
                    "text": [
                        "Don't pass to Salah\n"
                    ]
                }
            ],
            "source": [
                "salah_is_open = False\n",
                "pass_is_clear = True  # This could be a function call or a complex calculation\n",
                "\n",
                "if salah_is_open and pass_is_clear:\n",
                "    print(\"Pass to Salah\")\n",
                "else:\n",
                "    print(\"Don't pass to Salah\")"
            ]
        },
        {
            "cell_type": "markdown",
            "metadata": {},
            "source": [
                "In this example, because `salah_is_open` is `False`, Python doesn't evaluate `pass_is_clear` due to short-circuiting. This can save time if `pass_is_clear` is a function call or a complex calculation."
            ]
        },
        {
            "cell_type": "markdown",
            "metadata": {},
            "source": [
                "### Short-Circuiting with `or` Operator 📝\n",
                "\n",
                "The `or` operator uses short-circuiting to optimize logical operations. If the first condition is `True`, the second condition is not evaluated, and the result is `True`. This is because the result of the `or` operation is `True` if at least one of the conditions is `True`.\n"
            ]
        },
        {
            "cell_type": "code",
            "execution_count": 39,
            "metadata": {},
            "outputs": [
                {
                    "name": "stdout",
                    "output_type": "stream",
                    "text": [
                        "Pass to either Salah or Mané\n"
                    ]
                }
            ],
            "source": [
                "salah_is_open = True\n",
                "mane_is_open = True  # This could be a function call or a complex calculation\n",
                "\n",
                "if salah_is_open or mane_is_open:\n",
                "    print(\"Pass to either Salah or Mané\")\n",
                "else:\n",
                "    print(\"Don't pass to either Salah or Mané\")"
            ]
        },
        {
            "cell_type": "markdown",
            "metadata": {},
            "source": [
                "In this example, because `salah_is_open` is `True`, Python doesn't evaluate `mane_is_open` due to short-circuiting. This can save time if `mane_is_open` is a function call or a complex calculation."
            ]
        },
        {
            "cell_type": "markdown",
            "metadata": {},
            "source": [
                "## Chaining Comparisons 📝\n",
                "\n",
                "Chaining comparisons is a technique used to make complex comparisons in a single line of code. It allows you to combine multiple comparison operations to create complex conditions.\n",
                "\n",
                "### Chaining Comparisons with `and` Operator 📝\n",
                "\n",
                "The `and` operator can be used to chain multiple comparison operations and create complex conditions. If all the comparison operations are `True`, the result is `True`; otherwise, the result is `False`.\n",
                "\n",
                "In this example, we use the `and` operator to chain multiple comparison operations and create a complex condition. If all the conditions are `True`, the result is `True`; otherwise, the result is `False`.\n",
                "\n",
                "### Chaining Comparisons with `or` Operator 📝\n",
                "\n",
                "The `or` operator can be used to chain multiple comparison operations and create complex conditions. If at least one of the comparison operations is `True`, the result is `True`; otherwise, the result is `False`.\n",
                "\n"
            ]
        },
        {
            "cell_type": "markdown",
            "metadata": {},
            "source": [
                "# Conclusion 🌟\n",
                "\n",
                "This module has provided an in-depth look at conditional statements in Python. We've covered the different types of branches that Python offers to control the flow of a program, including simple `if` statements, binary `if-else` statements, and multi-branch `if-elif-else` statements. We've also explored comparison operators, logical operators, boolean expressions, and nested statements, which are used to create complex decision trees and handle complex conditions.\n",
                "\n",
                "In the next module, we'll explore more advanced programming techniques, including loops, functions, and error handling. These techniques are essential for writing efficient and robust programs.\n",
                "\n",
                "I hope you enjoyed this module and found it helpful. If you have any questions or feedback, please feel free to reach out. Happy learning! 🌟"
            ]
        },
        {
            "cell_type": "markdown",
            "metadata": {},
            "source": [
                "# References 📚\n",
                "\n",
                "To learn more about conditional statements in Python, you can refer to the following resources:\n",
                "\n",
                "- [Python Documentation - Control Flow Tools](https://docs.python.org/3/tutorial/controlflow.html)\n",
                "- [Real Python - Python Conditional Statements: If, Elif, Else, and Nested If Statements](https://realpython.com/python-conditional-statements/)\n",
                "- [Programiz - Python if...elif...else Statement](https://www.programiz.com/python-programming/if-elif-else)\n",
                "- [W3Schools - Python Comparison Operators](https://www.w3schools.com/python/gloss_python_comparison_operators.asp)\n",
                "- [Real Python - Python Boolean Operators](https://realpython.com/python-boolean-operators/)\n",
                "- [GeeksforGeeks - Python Short Circuiting](https://www.geeksforgeeks.org/short-circuiting-techniques-in-python/)\n",
                "- [Real Python - Python Ternary Operator](https://realpython.com/python-ternary-conditional-operator/)\n",
                "- [Real Python - Python Chaining Comparison Operators](https://realpython.com/python-operators-expressions/#chaining-comparison-operators)\n"
            ]
        }
    ],
    "metadata": {
        "kernelspec": {
            "display_name": "Python 3",
            "language": "python",
            "name": "python3"
        },
        "language_info": {
            "codemirror_mode": {
                "name": "ipython",
                "version": 3
            },
            "file_extension": ".py",
            "mimetype": "text/x-python",
            "name": "python",
            "nbconvert_exporter": "python",
            "pygments_lexer": "ipython3",
            "version": "3.11.5"
        }
    },
    "nbformat": 4,
    "nbformat_minor": 4
}
